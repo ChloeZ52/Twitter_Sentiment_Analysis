{
 "cells": [
  {
   "cell_type": "code",
   "execution_count": 1,
   "metadata": {
    "collapsed": true
   },
   "outputs": [],
   "source": [
    "import numpy as np\n",
    "import tensorflow as tf\n",
    "import csv\n",
    "import re\n",
    "from tqdm import tqdm_notebook as tqdm\n",
    "import nltk\n",
    "import string\n",
    "import random\n",
    "\n",
    "import plot_utils as utils"
   ]
  },
  {
   "cell_type": "code",
   "execution_count": 2,
   "metadata": {},
   "outputs": [
    {
     "name": "stdout",
     "output_type": "stream",
     "text": [
      "start importing text data...\n"
     ]
    },
    {
     "data": {
      "application/vnd.jupyter.widget-view+json": {
       "model_id": "88d0163d40c4439abf53449359ae71cb"
      }
     },
     "metadata": {},
     "output_type": "display_data"
    },
    {
     "name": "stdout",
     "output_type": "stream",
     "text": [
      "\n",
      "posFeatures size: 790178\n",
      "negFeatures size: 788436\n"
     ]
    }
   ],
   "source": [
    "#breaks up the sentences into lists of individual words and appends 'pos' or 'neg' after each list\n",
    "posFeatures = []\n",
    "negFeatures = []\n",
    "all_words = []\n",
    "def process(words):\n",
    "    global all_words\n",
    "    for word in words:\n",
    "        if word.isdigit() or (word in string.punctuation):\n",
    "            words.remove(word)\n",
    "    words = map(string.lower, words)\n",
    "    all_words.extend(words)\n",
    "    return words\n",
    "\n",
    "with open('Sentiment Analysis Dataset.csv') as csvfile:\n",
    "    reader = csv.DictReader(csvfile)\n",
    "    print \"start importing text data...\"\n",
    "    for row in tqdm(reader):\n",
    "        if row['Sentiment'] == '1':\n",
    "            posWords = re.findall(r\"[a-zA-Z_']+\", row['SentimentText'].rstrip())\n",
    "            posFeatures.append(process(posWords))\n",
    "        elif row['Sentiment'] == '0':\n",
    "            negWords = re.findall(r\"[a-zA-Z_']+\", row['SentimentText'].rstrip())\n",
    "            negFeatures.append(process(negWords))\n",
    "    print \"posFeatures size: \" + str(len(posFeatures))\n",
    "    print \"negFeatures size: \" + str(len(negFeatures))"
   ]
  },
  {
   "cell_type": "code",
   "execution_count": 3,
   "metadata": {},
   "outputs": [
    {
     "name": "stdout",
     "output_type": "stream",
     "text": [
      "start counts\n",
      "sorted!!?\n",
      "create dict\n"
     ]
    }
   ],
   "source": [
    "from collections import Counter\n",
    "print 'start counts'\n",
    "counts = Counter(all_words)\n",
    "\n",
    "print 'sorted!!?'\n",
    "vocab = sorted(counts, key=counts.get, reverse=True)\n",
    "\n",
    "print 'create dict'\n",
    "vocab_to_int = {word: ii for ii, word in enumerate(vocab, 1)}"
   ]
  },
  {
   "cell_type": "code",
   "execution_count": 4,
   "metadata": {},
   "outputs": [
    {
     "data": {
      "application/vnd.jupyter.widget-view+json": {
       "model_id": "f54e8c28af7b4dc49699e0e44e9f2a54"
      }
     },
     "metadata": {},
     "output_type": "display_data"
    },
    {
     "name": "stdout",
     "output_type": "stream",
     "text": [
      "\n"
     ]
    },
    {
     "data": {
      "application/vnd.jupyter.widget-view+json": {
       "model_id": "2ee685c002e74266a7f4faf01e2e25a8"
      }
     },
     "metadata": {},
     "output_type": "display_data"
    },
    {
     "name": "stdout",
     "output_type": "stream",
     "text": [
      "\n"
     ]
    }
   ],
   "source": [
    "pos_int = []\n",
    "neg_int = []\n",
    "for sent in tqdm(posFeatures):\n",
    "    pos_int.append([vocab_to_int[word] for word in sent])\n",
    "for sent in tqdm(negFeatures):\n",
    "    neg_int.append([vocab_to_int[word] for word in sent])\n",
    "\n",
    "del posFeatures\n",
    "del negFeatures"
   ]
  },
  {
   "cell_type": "code",
   "execution_count": 5,
   "metadata": {},
   "outputs": [
    {
     "name": "stdout",
     "output_type": "stream",
     "text": [
      "Zero-length reviews: 0\n",
      "Maximum review length: 52\n"
     ]
    }
   ],
   "source": [
    "pos_len = Counter([len(x) for x in pos_int])\n",
    "print(\"Zero-length reviews: {}\".format(pos_len[0]))\n",
    "print(\"Maximum review length: {}\".format(max(pos_len)))"
   ]
  },
  {
   "cell_type": "code",
   "execution_count": 6,
   "metadata": {},
   "outputs": [
    {
     "data": {
      "application/vnd.jupyter.widget-view+json": {
       "model_id": "8b846c1bb0af4cf4ae0dd96afa5e2606"
      }
     },
     "metadata": {},
     "output_type": "display_data"
    },
    {
     "name": "stdout",
     "output_type": "stream",
     "text": [
      "\n"
     ]
    },
    {
     "data": {
      "application/vnd.jupyter.widget-view+json": {
       "model_id": "09b300ccfac445e29de6a5edd3c40009"
      }
     },
     "metadata": {},
     "output_type": "display_data"
    },
    {
     "name": "stdout",
     "output_type": "stream",
     "text": [
      "\n"
     ]
    }
   ],
   "source": [
    "seq_len = 50\n",
    "\n",
    "def length_normalize(feature, seq_len):\n",
    "    result = []\n",
    "    for sent in tqdm(feature):\n",
    "        if len(sent)<seq_len:\n",
    "            # pad 0 to head\n",
    "            arr= [0 for _ in range(seq_len-len(sent))]\n",
    "            arr.extend(sent)\n",
    "            result.append(arr)\n",
    "        else:\n",
    "            result.append(sent[:seq_len])\n",
    "    return result\n",
    "\n",
    "pos_input = length_normalize(pos_int, seq_len)     \n",
    "neg_input = length_normalize(neg_int, seq_len)   \n",
    "del pos_int\n",
    "del neg_int"
   ]
  },
  {
   "cell_type": "code",
   "execution_count": 7,
   "metadata": {
    "scrolled": true
   },
   "outputs": [
    {
     "data": {
      "application/vnd.jupyter.widget-view+json": {
       "model_id": "1262d7498e6e4b9fb548a378f85b52b6"
      }
     },
     "metadata": {},
     "output_type": "display_data"
    },
    {
     "name": "stdout",
     "output_type": "stream",
     "text": [
      "\n"
     ]
    },
    {
     "data": {
      "application/vnd.jupyter.widget-view+json": {
       "model_id": "ff08fffbc33c4f34835737afef3dec4b"
      }
     },
     "metadata": {},
     "output_type": "display_data"
    },
    {
     "name": "stdout",
     "output_type": "stream",
     "text": [
      "\n"
     ]
    }
   ],
   "source": [
    "split_frac = 0.8\n",
    "pos_idx = int(len(pos_input)*0.8)\n",
    "neg_idx = int(len(neg_input)*0.8)\n",
    "\n",
    "def combine_pos_neg(pos, neg):\n",
    "    feature = []\n",
    "    label = []\n",
    "    feature.extend(pos)\n",
    "    feature.extend(neg)\n",
    "    label.extend([1 for i in range(len(pos))])\n",
    "    label.extend([0 for i in range(len(neg))])\n",
    "        \n",
    "    feature_shuf = []\n",
    "    label_shuf = []\n",
    "    index_shuf = range(len(feature))\n",
    "    random.shuffle(index_shuf)\n",
    "    for i in tqdm(index_shuf):\n",
    "        feature_shuf.append(feature[i])\n",
    "        label_shuf.append(label[i])\n",
    "    \n",
    "    return np.array(feature_shuf), np.array(label_shuf)\n",
    "\n",
    "train_pos, val_pos = pos_input[:pos_idx], pos_input[pos_idx:]\n",
    "train_neg, val_neg = neg_input[:neg_idx], neg_input[neg_idx:]\n",
    "\n",
    "train_x, train_y = combine_pos_neg(train_pos, train_neg)\n",
    "val_x, val_y = combine_pos_neg(val_pos, val_neg)\n",
    "\n",
    "del train_pos,train_neg,val_pos,val_neg"
   ]
  },
  {
   "cell_type": "code",
   "execution_count": 8,
   "metadata": {
    "collapsed": true
   },
   "outputs": [],
   "source": [
    "lstm_size = 512\n",
    "lstm_layers = 1\n",
    "batch_size = 500\n",
    "learning_rate = 0.001"
   ]
  },
  {
   "cell_type": "code",
   "execution_count": 9,
   "metadata": {
    "collapsed": true
   },
   "outputs": [],
   "source": [
    "n_words = len(vocab)\n",
    "\n",
    "# Create the graph object\n",
    "graph = tf.Graph()\n",
    "# Add nodes to the graph\n",
    "with graph.as_default():\n",
    "    inputs_ = tf.placeholder(tf.int32,[None, None], name='inputs')\n",
    "    labels_ = tf.placeholder(tf.int32,[None, None], name='labels')\n",
    "    keep_prob = tf.placeholder(tf.float32)"
   ]
  },
  {
   "cell_type": "code",
   "execution_count": 10,
   "metadata": {
    "collapsed": true
   },
   "outputs": [],
   "source": [
    "# Size of the embedding vectors (number of units in the embedding layer)\n",
    "embed_size = 500\n",
    "\n",
    "with graph.as_default():\n",
    "    embedding = tf.Variable(tf.random_uniform((n_words,embed_size),-1,1))\n",
    "    embed = tf.nn.embedding_lookup(embedding, inputs_)"
   ]
  },
  {
   "cell_type": "code",
   "execution_count": 11,
   "metadata": {
    "collapsed": true
   },
   "outputs": [],
   "source": [
    "with graph.as_default():\n",
    "    # Your basic LSTM cell\n",
    "    lstm = tf.contrib.rnn.BasicLSTMCell(lstm_size)\n",
    "    \n",
    "    # Add dropout to the cell\n",
    "    drop = tf.contrib.rnn.DropoutWrapper(lstm, output_keep_prob=keep_prob)\n",
    "    \n",
    "    # Stack up multiple LSTM layers, for deep learning\n",
    "    cell = tf.contrib.rnn.MultiRNNCell([drop]* lstm_layers)\n",
    "    \n",
    "    # Getting an initial state of all zeros\n",
    "    initial_state = cell.zero_state(batch_size, tf.float32)"
   ]
  },
  {
   "cell_type": "code",
   "execution_count": 12,
   "metadata": {
    "collapsed": true
   },
   "outputs": [],
   "source": [
    "with graph.as_default():\n",
    "    outputs, final_state = tf.nn.dynamic_rnn(cell, embed, initial_state=initial_state)"
   ]
  },
  {
   "cell_type": "code",
   "execution_count": 13,
   "metadata": {
    "collapsed": true
   },
   "outputs": [],
   "source": [
    "with graph.as_default():\n",
    "    predictions = tf.contrib.layers.fully_connected(outputs[:, -1], 1, activation_fn=tf.sigmoid)\n",
    "    cost = tf.losses.mean_squared_error(labels_, predictions)  \n",
    "    optimizer = tf.train.AdamOptimizer(learning_rate).minimize(cost)"
   ]
  },
  {
   "cell_type": "code",
   "execution_count": 14,
   "metadata": {
    "collapsed": true
   },
   "outputs": [],
   "source": [
    "with graph.as_default():\n",
    "    correct_pred = tf.equal(tf.cast(tf.round(predictions), tf.int32), labels_)\n",
    "    accuracy = tf.reduce_mean(tf.cast(correct_pred, tf.float32))"
   ]
  },
  {
   "cell_type": "code",
   "execution_count": 15,
   "metadata": {
    "collapsed": true
   },
   "outputs": [],
   "source": [
    "def get_batches(x, y, batch_size=100):\n",
    "    \n",
    "    n_batches = len(x)//batch_size\n",
    "    x, y = x[:n_batches*batch_size], y[:n_batches*batch_size]\n",
    "    for ii in range(0, len(x), batch_size):\n",
    "        yield x[ii:ii+batch_size], y[ii:ii+batch_size]"
   ]
  },
  {
   "cell_type": "code",
   "execution_count": 16,
   "metadata": {
    "scrolled": false
   },
   "outputs": [
    {
     "name": "stdout",
     "output_type": "stream",
     "text": [
      "('Epoch: 0/6', 'Iteration: 500', 'Train loss: 0.149')\n"
     ]
    },
    {
     "data": {
      "application/vnd.jupyter.widget-view+json": {
       "model_id": "1e85a2786d9d4d3c8326af947c02e714"
      }
     },
     "metadata": {},
     "output_type": "display_data"
    },
    {
     "name": "stdout",
     "output_type": "stream",
     "text": [
      "\n",
      "Val acc: 0.801\n",
      "('Epoch: 0/6', 'Iteration: 1000', 'Train loss: 0.133')\n"
     ]
    },
    {
     "data": {
      "application/vnd.jupyter.widget-view+json": {
       "model_id": "9999aae2593c4aefb45acbdace25c6ca"
      }
     },
     "metadata": {},
     "output_type": "display_data"
    },
    {
     "name": "stdout",
     "output_type": "stream",
     "text": [
      "\n",
      "Val acc: 0.820\n",
      "('Epoch: 0/6', 'Iteration: 1500', 'Train loss: 0.135')\n"
     ]
    },
    {
     "data": {
      "application/vnd.jupyter.widget-view+json": {
       "model_id": "ccc5b67b3e5b45328edd0e35e2d28c71"
      }
     },
     "metadata": {},
     "output_type": "display_data"
    },
    {
     "name": "stdout",
     "output_type": "stream",
     "text": [
      "\n",
      "Val acc: 0.817\n",
      "('Epoch: 0/6', 'Iteration: 2000', 'Train loss: 0.122')\n"
     ]
    },
    {
     "data": {
      "application/vnd.jupyter.widget-view+json": {
       "model_id": "759e15db18d64719b4a79311c4d78920"
      }
     },
     "metadata": {},
     "output_type": "display_data"
    },
    {
     "name": "stdout",
     "output_type": "stream",
     "text": [
      "\n",
      "Val acc: 0.825\n",
      "('Epoch: 0/6', 'Iteration: 2500', 'Train loss: 0.119')\n"
     ]
    },
    {
     "data": {
      "application/vnd.jupyter.widget-view+json": {
       "model_id": "93d6661604714ffd95acfe13e8c93963"
      }
     },
     "metadata": {},
     "output_type": "display_data"
    },
    {
     "name": "stdout",
     "output_type": "stream",
     "text": [
      "\n",
      "Val acc: 0.830\n",
      "('Epoch: 1/6', 'Iteration: 3000', 'Train loss: 0.104')\n"
     ]
    },
    {
     "data": {
      "application/vnd.jupyter.widget-view+json": {
       "model_id": "2677914d7d0b434bb5d28d735e9442d2"
      }
     },
     "metadata": {},
     "output_type": "display_data"
    },
    {
     "name": "stdout",
     "output_type": "stream",
     "text": [
      "\n",
      "Val acc: 0.825\n",
      "('Epoch: 1/6', 'Iteration: 3500', 'Train loss: 0.102')\n"
     ]
    },
    {
     "data": {
      "application/vnd.jupyter.widget-view+json": {
       "model_id": "84f7638b919347d2a05b6f92732ed0ac"
      }
     },
     "metadata": {},
     "output_type": "display_data"
    },
    {
     "name": "stdout",
     "output_type": "stream",
     "text": [
      "\n",
      "Val acc: 0.820\n",
      "('Epoch: 1/6', 'Iteration: 4000', 'Train loss: 0.080')\n"
     ]
    },
    {
     "data": {
      "application/vnd.jupyter.widget-view+json": {
       "model_id": "942e1ff338e94104be9fe89632d5819f"
      }
     },
     "metadata": {},
     "output_type": "display_data"
    },
    {
     "name": "stdout",
     "output_type": "stream",
     "text": [
      "\n",
      "Val acc: 0.823\n",
      "('Epoch: 1/6', 'Iteration: 4500', 'Train loss: 0.095')\n"
     ]
    },
    {
     "data": {
      "application/vnd.jupyter.widget-view+json": {
       "model_id": "002c01e40ad742beb6c0b51678e12475"
      }
     },
     "metadata": {},
     "output_type": "display_data"
    },
    {
     "name": "stdout",
     "output_type": "stream",
     "text": [
      "\n",
      "Val acc: 0.816\n",
      "('Epoch: 1/6', 'Iteration: 5000', 'Train loss: 0.095')\n"
     ]
    },
    {
     "data": {
      "application/vnd.jupyter.widget-view+json": {
       "model_id": "6880572aa8d1454a93d42cbc2981c753"
      }
     },
     "metadata": {},
     "output_type": "display_data"
    },
    {
     "name": "stdout",
     "output_type": "stream",
     "text": [
      "\n",
      "Val acc: 0.822\n",
      "('Epoch: 2/6', 'Iteration: 5500', 'Train loss: 0.073')\n"
     ]
    },
    {
     "data": {
      "application/vnd.jupyter.widget-view+json": {
       "model_id": "8dee723b39fe4ef891f85e9e5254f411"
      }
     },
     "metadata": {},
     "output_type": "display_data"
    },
    {
     "name": "stdout",
     "output_type": "stream",
     "text": [
      "\n",
      "Val acc: 0.818\n",
      "('Epoch: 2/6', 'Iteration: 6000', 'Train loss: 0.062')\n"
     ]
    },
    {
     "data": {
      "application/vnd.jupyter.widget-view+json": {
       "model_id": "5d4ead1524de4c5bad401f41bc5a4b34"
      }
     },
     "metadata": {},
     "output_type": "display_data"
    },
    {
     "name": "stdout",
     "output_type": "stream",
     "text": [
      "\n",
      "Val acc: 0.818\n",
      "('Epoch: 2/6', 'Iteration: 6500', 'Train loss: 0.073')\n"
     ]
    },
    {
     "data": {
      "application/vnd.jupyter.widget-view+json": {
       "model_id": "742f8a306ef7405cb08d305d951a3b16"
      }
     },
     "metadata": {},
     "output_type": "display_data"
    },
    {
     "name": "stdout",
     "output_type": "stream",
     "text": [
      "\n",
      "Val acc: 0.815\n",
      "('Epoch: 2/6', 'Iteration: 7000', 'Train loss: 0.065')\n"
     ]
    },
    {
     "data": {
      "application/vnd.jupyter.widget-view+json": {
       "model_id": "78eee89e8dc34f5497f8bc33d8b36b00"
      }
     },
     "metadata": {},
     "output_type": "display_data"
    },
    {
     "name": "stdout",
     "output_type": "stream",
     "text": [
      "\n",
      "Val acc: 0.808\n",
      "('Epoch: 2/6', 'Iteration: 7500', 'Train loss: 0.069')\n"
     ]
    },
    {
     "data": {
      "application/vnd.jupyter.widget-view+json": {
       "model_id": "1410146176f044669ba323bb552128e7"
      }
     },
     "metadata": {},
     "output_type": "display_data"
    },
    {
     "name": "stdout",
     "output_type": "stream",
     "text": [
      "\n",
      "Val acc: 0.809\n",
      "('Epoch: 3/6', 'Iteration: 8000', 'Train loss: 0.043')\n"
     ]
    },
    {
     "data": {
      "application/vnd.jupyter.widget-view+json": {
       "model_id": "262e36fafd5c441a9a78abee94ef2740"
      }
     },
     "metadata": {},
     "output_type": "display_data"
    },
    {
     "name": "stdout",
     "output_type": "stream",
     "text": [
      "\n",
      "Val acc: 0.816\n",
      "('Epoch: 3/6', 'Iteration: 8500', 'Train loss: 0.051')\n"
     ]
    },
    {
     "data": {
      "application/vnd.jupyter.widget-view+json": {
       "model_id": "0d88ffc1ab58416ea01d80fb68244c7d"
      }
     },
     "metadata": {},
     "output_type": "display_data"
    },
    {
     "name": "stdout",
     "output_type": "stream",
     "text": [
      "\n",
      "Val acc: 0.812\n",
      "('Epoch: 3/6', 'Iteration: 9000', 'Train loss: 0.045')\n"
     ]
    },
    {
     "data": {
      "application/vnd.jupyter.widget-view+json": {
       "model_id": "6bc8d153381d4ba9ac1a923b9bd6d7fa"
      }
     },
     "metadata": {},
     "output_type": "display_data"
    },
    {
     "name": "stdout",
     "output_type": "stream",
     "text": [
      "\n",
      "Val acc: 0.812\n",
      "('Epoch: 3/6', 'Iteration: 9500', 'Train loss: 0.066')\n"
     ]
    },
    {
     "data": {
      "application/vnd.jupyter.widget-view+json": {
       "model_id": "068e0a8104254568abc8eede6f387779"
      }
     },
     "metadata": {},
     "output_type": "display_data"
    },
    {
     "name": "stdout",
     "output_type": "stream",
     "text": [
      "\n",
      "Val acc: 0.809\n",
      "('Epoch: 3/6', 'Iteration: 10000', 'Train loss: 0.042')\n"
     ]
    },
    {
     "data": {
      "application/vnd.jupyter.widget-view+json": {
       "model_id": "5a71b07791494628a0024dd88822c2b1"
      }
     },
     "metadata": {},
     "output_type": "display_data"
    },
    {
     "name": "stdout",
     "output_type": "stream",
     "text": [
      "\n",
      "Val acc: 0.803\n",
      "('Epoch: 4/6', 'Iteration: 10500', 'Train loss: 0.037')\n"
     ]
    },
    {
     "data": {
      "application/vnd.jupyter.widget-view+json": {
       "model_id": "723d3d09cbc34f64acc31ca93e50dd77"
      }
     },
     "metadata": {},
     "output_type": "display_data"
    },
    {
     "name": "stdout",
     "output_type": "stream",
     "text": [
      "\n",
      "Val acc: 0.811\n",
      "('Epoch: 4/6', 'Iteration: 11000', 'Train loss: 0.037')\n"
     ]
    },
    {
     "data": {
      "application/vnd.jupyter.widget-view+json": {
       "model_id": "dc194df6eda34dadb43c563b8defb3ec"
      }
     },
     "metadata": {},
     "output_type": "display_data"
    },
    {
     "name": "stdout",
     "output_type": "stream",
     "text": [
      "\n",
      "Val acc: 0.815\n",
      "('Epoch: 4/6', 'Iteration: 11500', 'Train loss: 0.043')\n"
     ]
    },
    {
     "data": {
      "application/vnd.jupyter.widget-view+json": {
       "model_id": "ee8724abbfe74576afc276afc8428eae"
      }
     },
     "metadata": {},
     "output_type": "display_data"
    },
    {
     "name": "stdout",
     "output_type": "stream",
     "text": [
      "\n",
      "Val acc: 0.809\n",
      "('Epoch: 4/6', 'Iteration: 12000', 'Train loss: 0.041')\n"
     ]
    },
    {
     "data": {
      "application/vnd.jupyter.widget-view+json": {
       "model_id": "0f70fdb326a349b79560ab7afb56bc79"
      }
     },
     "metadata": {},
     "output_type": "display_data"
    },
    {
     "name": "stdout",
     "output_type": "stream",
     "text": [
      "\n",
      "Val acc: 0.803\n",
      "('Epoch: 4/6', 'Iteration: 12500', 'Train loss: 0.033')\n"
     ]
    },
    {
     "data": {
      "application/vnd.jupyter.widget-view+json": {
       "model_id": "5e79c32c6f314ba69f8392f7a7b4fc3a"
      }
     },
     "metadata": {},
     "output_type": "display_data"
    },
    {
     "name": "stdout",
     "output_type": "stream",
     "text": [
      "\n",
      "Val acc: 0.807\n",
      "('Epoch: 5/6', 'Iteration: 13000', 'Train loss: 0.021')\n"
     ]
    },
    {
     "data": {
      "application/vnd.jupyter.widget-view+json": {
       "model_id": "cb25346fc8354881ac4292f8ecb1fb8a"
      }
     },
     "metadata": {},
     "output_type": "display_data"
    },
    {
     "name": "stdout",
     "output_type": "stream",
     "text": [
      "\n",
      "Val acc: 0.812\n",
      "('Epoch: 5/6', 'Iteration: 13500', 'Train loss: 0.024')\n"
     ]
    },
    {
     "data": {
      "application/vnd.jupyter.widget-view+json": {
       "model_id": "8a50b24337aa4aa7b903c505b84fbd6e"
      }
     },
     "metadata": {},
     "output_type": "display_data"
    },
    {
     "name": "stdout",
     "output_type": "stream",
     "text": [
      "\n",
      "Val acc: 0.808\n",
      "('Epoch: 5/6', 'Iteration: 14000', 'Train loss: 0.021')\n"
     ]
    },
    {
     "data": {
      "application/vnd.jupyter.widget-view+json": {
       "model_id": "ed58ad6b197540b68a3d66e0fa3e9fcb"
      }
     },
     "metadata": {},
     "output_type": "display_data"
    },
    {
     "name": "stdout",
     "output_type": "stream",
     "text": [
      "\n",
      "Val acc: 0.805\n",
      "('Epoch: 5/6', 'Iteration: 14500', 'Train loss: 0.038')\n"
     ]
    },
    {
     "data": {
      "application/vnd.jupyter.widget-view+json": {
       "model_id": "12b339d7d64e49e9ab1edff94d9569c0"
      }
     },
     "metadata": {},
     "output_type": "display_data"
    },
    {
     "name": "stdout",
     "output_type": "stream",
     "text": [
      "\n",
      "Val acc: 0.806\n",
      "('Epoch: 5/6', 'Iteration: 15000', 'Train loss: 0.023')\n"
     ]
    },
    {
     "data": {
      "application/vnd.jupyter.widget-view+json": {
       "model_id": "bd3f7c69c6194f818ae2a848c92dcf90"
      }
     },
     "metadata": {},
     "output_type": "display_data"
    },
    {
     "name": "stdout",
     "output_type": "stream",
     "text": [
      "\n",
      "Val acc: 0.798\n"
     ]
    }
   ],
   "source": [
    "epochs = 6\n",
    "\n",
    "train_loss = []\n",
    "train_acc = []\n",
    "val_loss = []\n",
    "val_acc = []\n",
    "with graph.as_default():\n",
    "    saver = tf.train.Saver()\n",
    "with tf.Session(graph=graph) as sess:\n",
    "    sess.run(tf.global_variables_initializer())\n",
    "    iteration = 1\n",
    "    for e in range(epochs):\n",
    "        state = sess.run(initial_state)\n",
    "        train_loss_temp = []\n",
    "        train_acc_temp = []\n",
    "        val_acc_temp = []\n",
    "        val_loss_temp = []\n",
    "        \n",
    "        for ii, (x, y) in enumerate(get_batches(train_x, train_y, batch_size), 1):\n",
    "            feed = {inputs_: x,\n",
    "                    labels_: y[:, None],\n",
    "                    keep_prob: 0.5,\n",
    "                    initial_state: state}\n",
    "            t_acc, loss, state, _ = sess.run([accuracy, cost, final_state, optimizer], feed_dict=feed)\n",
    "            train_acc_temp.append(t_acc)\n",
    "            train_loss_temp.append(loss)\n",
    "            if iteration%500==0:\n",
    "                print(\"Epoch: {}/{}\".format(e, epochs),\n",
    "                      \"Iteration: {}\".format(iteration),\n",
    "                      \"Train loss: {:.3f}\".format(loss))\n",
    "            \n",
    "            if iteration%500==0:\n",
    "                train_loss.append(np.mean(train_loss_temp))\n",
    "                train_acc.append(np.mean(train_acc_temp))\n",
    "                train_loss_temp = []\n",
    "                train_acc_temp = []\n",
    "                \n",
    "                val_state = sess.run(cell.zero_state(batch_size, tf.float32))\n",
    "                for x, y in tqdm(get_batches(val_x, val_y, batch_size)):\n",
    "                    feed = {inputs_: x,\n",
    "                            labels_: y[:, None],\n",
    "                            keep_prob: 1,\n",
    "                            initial_state: val_state}\n",
    "                    batch_acc, valLoss , val_state = sess.run([accuracy, cost , final_state], feed_dict=feed)\n",
    "                    val_loss_temp.append(valLoss)\n",
    "                    val_acc_temp.append(batch_acc)\n",
    "                \n",
    "                val_loss.append(np.mean(val_loss_temp))\n",
    "                val_acc.append(np.mean(val_acc_temp))\n",
    "                print(\"Val acc: {:.3f}\".format(np.mean(val_acc_temp)))\n",
    "                val_loss_temp = []\n",
    "                val_acc_temp=[]\n",
    "            iteration +=1\n",
    "    saver.save(sess, \"checkpoints/sentiment.ckpt\")"
   ]
  },
  {
   "cell_type": "code",
   "execution_count": 17,
   "metadata": {},
   "outputs": [
    {
     "data": {
      "image/png": "[encoded data removed]",
      "text/plain": [
       "<matplotlib.figure.Figure at 0x7f688ed2a2d0>"
      ]
     },
     "metadata": {},
     "output_type": "display_data"
    },
    {
     "data": {
      "image/png": "[encoded data removed]",
      "text/plain": [
       "<matplotlib.figure.Figure at 0x7f688ed2a090>"
      ]
     },
     "metadata": {},
     "output_type": "display_data"
    }
   ],
   "source": [
    "utils.plot_accuracy(train_acc, val_acc, 'every 500 batches')\n",
    "utils.plot_loss(train_loss, val_loss , 'every 500 batches')"
   ]
  },
  {
   "cell_type": "code",
   "execution_count": 18,
   "metadata": {},
   "outputs": [
    {
     "name": "stdout",
     "output_type": "stream",
     "text": [
      "[0.762236, 0.80387598, 0.81407601, 0.82035202, 0.82461202, 0.84414321, 0.85859603, 0.86389995, 0.86854804, 0.87147999, 0.89104444, 0.90398806, 0.90899599, 0.91308802, 0.91474801, 0.92655998, 0.93609995, 0.93888801, 0.94163197, 0.94336796, 0.94919503, 0.95290798, 0.95624804, 0.95810002, 0.95874, 0.96146137, 0.963368, 0.96582001, 0.96660399, 0.96681201]\n",
      "[0.80092549, 0.81952775, 0.81742632, 0.82473528, 0.82995248, 0.82512528, 0.82035816, 0.82335341, 0.81623453, 0.82244378, 0.81792074, 0.81771481, 0.81521386, 0.8084501, 0.80854195, 0.81608552, 0.811607, 0.81162286, 0.80894458, 0.80294454, 0.8111347, 0.81513464, 0.80860853, 0.80336291, 0.8066529, 0.81181306, 0.80798095, 0.80457681, 0.80594933, 0.79838353]\n",
      "[0.16115181, 0.13711399, 0.13078107, 0.12629418, 0.12347648, 0.11134212, 0.10235425, 0.099146418, 0.095929101, 0.094123095, 0.081427038, 0.07259082, 0.06979049, 0.066755004, 0.065415636, 0.057458155, 0.051012587, 0.049001232, 0.046814453, 0.045557883, 0.04115377, 0.038428728, 0.036240704, 0.034705285, 0.034156073, 0.032010611, 0.030718694, 0.028789809, 0.028089343, 0.027985813]\n",
      "[0.13941047, 0.12760285, 0.12893595, 0.12313468, 0.120574, 0.12461352, 0.12825842, 0.12661041, 0.13186514, 0.12926155, 0.13363074, 0.13577203, 0.13699196, 0.14428286, 0.14287163, 0.14215617, 0.14712621, 0.14846867, 0.15199079, 0.15946381, 0.15122111, 0.15016444, 0.1569384, 0.16260634, 0.15838799, 0.15689006, 0.16062112, 0.16442275, 0.16480979, 0.17177479]\n"
     ]
    }
   ],
   "source": [
    "print train_acc\n",
    "print val_acc\n",
    "print train_loss\n",
    "print val_loss"
   ]
  },
  {
   "cell_type": "code",
   "execution_count": 19,
   "metadata": {},
   "outputs": [
    {
     "name": "stdout",
     "output_type": "stream",
     "text": [
      "1\n"
     ]
    }
   ],
   "source": [
    "print 1"
   ]
  }
 ],
 "metadata": {
  "kernelspec": {
   "display_name": "Python 2",
   "language": "python",
   "name": "python2"
  },
  "language_info": {
   "codemirror_mode": {
    "name": "ipython",
    "version": 2
   },
   "file_extension": ".py",
   "mimetype": "text/x-python",
   "name": "python",
   "nbconvert_exporter": "python",
   "pygments_lexer": "ipython2",
   "version": "2.7.13"
  }
 },
 "nbformat": 4,
 "nbformat_minor": 2
}
