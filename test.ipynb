{
 "cells": [
  {
   "cell_type": "code",
   "execution_count": 1,
   "metadata": {
    "collapsed": true
   },
   "outputs": [],
   "source": [
    "import csv\n",
    "import re"
   ]
  },
  {
   "cell_type": "code",
   "execution_count": 2,
   "metadata": {},
   "outputs": [
    {
     "name": "stdout",
     "output_type": "stream",
     "text": [
      "start importing text data...\n",
      "posFeatures size: 790178\n",
      "negFeatures size: 788436\n"
     ]
    }
   ],
   "source": [
    "#breaks up the sentences into lists of individual words and appends 'pos' or 'neg' after each list\n",
    "pre_posFeatures = []\n",
    "pre_negFeatures = []\n",
    "with open('Sentiment Analysis Dataset.csv') as csvfile:\n",
    "    reader = csv.DictReader(csvfile)\n",
    "    print \"start importing text data...\"\n",
    "    for row in reader:\n",
    "        if row['Sentiment'] == '1':\n",
    "            posWords = re.findall(r\"[\\w']+|[.,!?:;]\", row['SentimentText'].rstrip())\n",
    "            pre_posFeatures.append([posWords, 'pos'])\n",
    "        elif row['Sentiment'] == '0':\n",
    "            negWords = re.findall(r\"[\\w']+|[.,!?:;]\", row['SentimentText'].rstrip())\n",
    "            pre_negFeatures.append([negWords, 'neg'])  \n",
    "    print \"posFeatures size: \" + str(len(pre_posFeatures))\n",
    "    print \"negFeatures size: \" + str(len(pre_negFeatures))"
   ]
  },
  {
   "cell_type": "code",
   "execution_count": 3,
   "metadata": {},
   "outputs": [
    {
     "name": "stdout",
     "output_type": "stream",
     "text": [
      "pre_posFeatures: [['omg', 'its', 'already', '7', ':', '30', ':', 'O'], 'pos']\n",
      "pre_negFeatures: [['is', 'so', 'sad', 'for', 'my', 'APL', 'friend', '.', '.', '.', '.', '.', '.', '.', '.', '.', '.', '.', '.', '.'], 'neg']\n"
     ]
    }
   ],
   "source": [
    "print \"pre_posFeatures: \" + str(pre_posFeatures[0])\n",
    "print \"pre_negFeatures: \" + str(pre_negFeatures[0])"
   ]
  },
  {
   "cell_type": "code",
   "execution_count": 4,
   "metadata": {},
   "outputs": [
    {
     "name": "stdout",
     "output_type": "stream",
     "text": [
      "start pre-processing text data...\n",
      "end pre-processing text data\n"
     ]
    }
   ],
   "source": [
    "#pre-process data\n",
    "import nltk\n",
    "from nltk.corpus import stopwords\n",
    "import string\n",
    "\n",
    "\n",
    "posFeatures = []\n",
    "negFeatures = []\n",
    "\n",
    "print \"start pre-processing text data...\"\n",
    "#remove punctuation & digit & stopwords\n",
    "for sentence in pre_posFeatures:\n",
    "    sentence_temp = []\n",
    "    for word in sentence[0]:\n",
    "        if not word.isdigit() and word not in string.punctuation:\n",
    "            sentence_temp.append(word.lower())\n",
    "    posFeatures.append([sentence_temp, 'pos'])\n",
    "    \n",
    "\n",
    "for sentence in pre_negFeatures:\n",
    "    sentence_temp = []\n",
    "    for word in sentence[0]:\n",
    "        if not word.isdigit() and word not in string.punctuation:\n",
    "            sentence_temp.append(word.lower())\n",
    "    negFeatures.append([sentence_temp, 'neg'])\n",
    "\n",
    "print \"end pre-processing text data\"\n",
    "#text = nltk.corpus.words.words('en')\n"
   ]
  },
  {
   "cell_type": "code",
   "execution_count": 5,
   "metadata": {},
   "outputs": [
    {
     "name": "stdout",
     "output_type": "stream",
     "text": [
      "posFeature: [['omg', 'its', 'already', 'o'], 'pos']\n",
      "negFeature: [['is', 'so', 'sad', 'for', 'my', 'apl', 'friend'], 'neg']\n"
     ]
    }
   ],
   "source": [
    "print \"posFeature: \" + str(posFeatures[0])\n",
    "print \"negFeature: \" + str(negFeatures[0])"
   ]
  },
  {
   "cell_type": "code",
   "execution_count": 6,
   "metadata": {
    "collapsed": true
   },
   "outputs": [],
   "source": [
    "#assign each word of posFeatures #i the value True\n",
    "for sentence in posFeatures:\n",
    "    sentence [0] = dict([word, True] for word in sentence[0])        "
   ]
  },
  {
   "cell_type": "code",
   "execution_count": 7,
   "metadata": {
    "collapsed": true
   },
   "outputs": [],
   "source": [
    "#assign each word of negFeatures #i the value True\n",
    "for sentence in negFeatures:\n",
    "    sentence [0] = dict([word, True] for word in sentence[0])        "
   ]
  },
  {
   "cell_type": "code",
   "execution_count": 8,
   "metadata": {
    "collapsed": true
   },
   "outputs": [],
   "source": [
    "import math\n",
    "\n",
    "#selects 3/4 of the features to be used for training and 1/4 to be used for testing\n",
    "posCutoff = int(math.floor(len(posFeatures)*3/4))\n",
    "negCutoff = int(math.floor(len(negFeatures)*3/4))\n",
    "trainFeatures = posFeatures[:posCutoff] + negFeatures[:negCutoff]\n",
    "testFeatures = posFeatures[posCutoff:] + negFeatures[negCutoff:]"
   ]
  },
  {
   "cell_type": "code",
   "execution_count": 9,
   "metadata": {},
   "outputs": [
    {
     "name": "stdout",
     "output_type": "stream",
     "text": [
      "start Naive Bayes Classifier...\n"
     ]
    }
   ],
   "source": [
    "from nltk.classify import NaiveBayesClassifier\n",
    "\n",
    "print \"start Naive Bayes Classifier...\"\n",
    "\n",
    "#trains a Naive Bayes Classifier\n",
    "classifier = NaiveBayesClassifier.train(trainFeatures)"
   ]
  },
  {
   "cell_type": "code",
   "execution_count": 12,
   "metadata": {},
   "outputs": [],
   "source": [
    "import collections\n",
    "\n",
    "#initiates referenceSets and testSets\n",
    "trueSets = collections.defaultdict(set)\n",
    "predSets = collections.defaultdict(set)"
   ]
  },
  {
   "cell_type": "code",
   "execution_count": 14,
   "metadata": {},
   "outputs": [],
   "source": [
    "#puts correctly labeled sentences in trueSets and the predictively labeled version in predSets\n",
    "for i, (features, label) in enumerate(testFeatures):\n",
    "    trueSets[label].add(i)\n",
    "    predicted = classifier.classify(features)\n",
    "    predSets[predicted].add(i)"
   ]
  },
  {
   "cell_type": "code",
   "execution_count": 19,
   "metadata": {},
   "outputs": [
    {
     "name": "stdout",
     "output_type": "stream",
     "text": [
      " train on 1183960 instances, test on 394654 instances\n",
      "accuracy: 0.746818732358\n",
      "pos precision: 0.869035018749\n",
      "pos recall: 0.581887671164\n",
      "neg precision: 0.685207064509\n",
      "neg recall: 0.912114616786\n",
      "Most Informative Features\n",
      "            tweeteradder = True              pos : neg    =    487.3 : 1.0\n",
      "              banksyart2 = True              pos : neg    =     57.5 : 1.0\n",
      "                 mcmahon = True              neg : pos    =     54.3 : 1.0\n",
      "                    sadd = True              neg : pos    =     51.8 : 1.0\n",
      "                 saddens = True              neg : pos    =     49.1 : 1.0\n",
      "             shareholder = True              pos : neg    =     48.2 : 1.0\n",
      "                    owie = True              neg : pos    =     39.1 : 1.0\n",
      "                  farrah = True              neg : pos    =     35.2 : 1.0\n",
      "                  boohoo = True              neg : pos    =     33.3 : 1.0\n",
      "         iammaxathotspot = True              pos : neg    =     30.3 : 1.0\n"
     ]
    }
   ],
   "source": [
    "import nltk.classify.util\n",
    "from nltk.metrics.scores import precision as precision\n",
    "from nltk.metrics.scores import recall as recall\n",
    "\n",
    "print 'train on %d instances, test on %d instances' % (len(trainFeatures), len(testFeatures))\n",
    "print 'accuracy:', nltk.classify.util.accuracy(classifier, testFeatures)\n",
    "print 'pos precision:', precision(trueSets['pos'], predSets['pos'])\n",
    "print 'pos recall:', recall(trueSets['pos'], predSets['pos'])\n",
    "print 'neg precision:', precision(trueSets['neg'], predSets['neg'])\n",
    "print 'neg recall:', recall(trueSets['neg'], predSets['neg'])\n",
    "classifier.show_most_informative_features(10)"
   ]
  },
  {
   "cell_type": "code",
   "execution_count": null,
   "metadata": {
    "collapsed": true
   },
   "outputs": [],
   "source": []
  }
 ],
 "metadata": {
  "kernelspec": {
   "display_name": "Python 2",
   "language": "python",
   "name": "python2"
  },
  "language_info": {
   "codemirror_mode": {
    "name": "ipython",
    "version": 2
   },
   "file_extension": ".py",
   "mimetype": "text/x-python",
   "name": "python",
   "nbconvert_exporter": "python",
   "pygments_lexer": "ipython2",
   "version": "2.7.13"
  }
 },
 "nbformat": 4,
 "nbformat_minor": 2
}
