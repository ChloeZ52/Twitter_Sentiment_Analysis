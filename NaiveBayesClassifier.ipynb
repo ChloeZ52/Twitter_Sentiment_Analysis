{
 "cells": [
  {
   "cell_type": "code",
   "execution_count": null,
   "metadata": {
    "collapsed": true
   },
   "outputs": [],
   "source": [
    "from nltk.classify import NaiveBayesClassifier\n",
    "\n",
    "from DataLoader import DataLoader\n",
    "from FeatureSelection import FeatureSelection\n",
    "from Result import Result\n",
    "\n",
    "from tqdm import tqdm_notebook as tqdm"
   ]
  },
  {
   "cell_type": "code",
   "execution_count": null,
   "metadata": {},
   "outputs": [],
   "source": [
    "# Import preprocessed data\n",
    "ds = DataLoader()"
   ]
  },
  {
   "cell_type": "code",
   "execution_count": null,
   "metadata": {},
   "outputs": [],
   "source": [
    "# Unigram&Bigram\n",
    "# Without label 'pos'&'neg'\n",
    "posFeatures, negFeatures = ds.get_unibi_data()\n",
    "\n",
    "# Initiate feature selection\n",
    "fs = FeatureSelection(posFeatures, negFeatures)"
   ]
  },
  {
   "cell_type": "code",
   "execution_count": null,
   "metadata": {},
   "outputs": [],
   "source": [
    "posFeatures_label = list(posFeatures)\n",
    "negFeatures_label = list(negFeatures)\n",
    "\n",
    "# Add labels\n",
    "for i, word in tqdm(enumerate(posFeatures)):\n",
    "    posFeatures_label[i] = [word, 'pos']\n",
    "# Add labels\n",
    "for i, word in tqdm(enumerate(negFeatures)):\n",
    "    negFeatures_label[i] = [word, 'neg']\n",
    "    \n",
    "trainFeatures, valFeatures = ds.get_ratio_data(posFeatures_label, negFeatures_label, 3/4.0)"
   ]
  },
  {
   "cell_type": "code",
   "execution_count": null,
   "metadata": {},
   "outputs": [],
   "source": [
    "print \"No feature selection\"\n",
    "    \n",
    "trainFeatures_new = list(trainFeatures)\n",
    "valFeatures_new = list(valFeatures)\n",
    "# Assign each word of posFeatures the value True\n",
    "for i, sentence in tqdm(enumerate(trainFeatures_new)):\n",
    "    sentence[0] = dict([word, True] for word in sentence[0]) \n",
    "# Assign each word of negFeatures the value True \n",
    "for i, sentence in tqdm(enumerate(valFeatures_new)):\n",
    "    sentence[0] = dict([word, True] for word in sentence[0])\n",
    "        \n",
    "print \"start Naive Bayes Classifier...\"\n",
    "# Train a Naive Bayes Classifier\n",
    "classifier = NaiveBayesClassifier.train(trainFeatures_new)\n",
    "    \n",
    "result = Result(trainFeatures_new, valFeatures_new, classifier)\n",
    "result.print_result()"
   ]
  },
  {
   "cell_type": "code",
   "execution_count": null,
   "metadata": {},
   "outputs": [],
   "source": [
    "feature_nums = [1000000, 500000, 100000, 50000]\n",
    "for num in feature_nums:\n",
    "    print \"Feature num:\" + str(num)\n",
    "    \n",
    "    best_words = fs.feature_selection(num)\n",
    "    trainFeatures_new = list(trainFeatures)\n",
    "    valFeatures_new = list(valFeatures)\n",
    "    # Assign each word of posFeatures the value True after feature selection\n",
    "    for i, sentence in tqdm(enumerate(trainFeatures_new)):\n",
    "        sentence[0] = dict([word, True] for word in sentence[0] if word in best_words) \n",
    "    # Assign each word of negFeatures the value True after feature selection\n",
    "    for i, sentence in tqdm(enumerate(valFeatures_new)):\n",
    "        sentence[0] = dict([word, True] for word in sentence[0] if word in best_words)\n",
    "        \n",
    "    print \"start Naive Bayes Classifier...\"\n",
    "    # Train a Naive Bayes Classifier\n",
    "    classifier = NaiveBayesClassifier.train(trainFeatures_new)\n",
    "    \n",
    "    result = Result(trainFeatures_new, valFeatures_new, classifier)\n",
    "    result.print_result()"
   ]
  }
 ],
 "metadata": {
  "kernelspec": {
   "display_name": "Python 2",
   "language": "python",
   "name": "python2"
  },
  "language_info": {
   "codemirror_mode": {
    "name": "ipython",
    "version": 2
   },
   "file_extension": ".py",
   "mimetype": "text/x-python",
   "name": "python",
   "nbconvert_exporter": "python",
   "pygments_lexer": "ipython2",
   "version": "2.7.14"
  }
 },
 "nbformat": 4,
 "nbformat_minor": 2
}
